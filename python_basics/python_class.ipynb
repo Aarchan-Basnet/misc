{
 "cells": [
  {
   "cell_type": "markdown",
   "id": "e33b8fa2",
   "metadata": {},
   "source": [
    "PYTHON OOP\n",
    "\n",
    "attributes and methods,\n",
    "need to pass self argument in all methods, \n",
    "instance variables contain data unique to each instance"
   ]
  },
  {
   "cell_type": "code",
   "execution_count": 1,
   "id": "b4e68b86",
   "metadata": {},
   "outputs": [
    {
     "name": "stdout",
     "output_type": "stream",
     "text": [
      "<__main__.Employee object at 0x000001FFB494E4A0>\n",
      "<__main__.Employee object at 0x000001FFB494CEE0>\n",
      "john\n",
      "Mary\n"
     ]
    }
   ],
   "source": [
    "class Employee:\n",
    "    pass\n",
    "\n",
    "#each instance is unique and unique address\n",
    "emp_1 = Employee()\n",
    "emp_2 = Employee()\n",
    "\n",
    "print(emp_1)\n",
    "print(emp_2)\n",
    "\n",
    "#manual instance variables\n",
    "emp_1.first = \"john\"\n",
    "emp_2.first = \"Mary\"\n",
    "\n",
    "print(emp_1.first)\n",
    "print(emp_2.first)"
   ]
  },
  {
   "cell_type": "code",
   "execution_count": 4,
   "id": "c63c7ca1",
   "metadata": {},
   "outputs": [
    {
     "name": "stdout",
     "output_type": "stream",
     "text": [
      "John Doe\n",
      "John Doe\n"
     ]
    }
   ],
   "source": [
    "class Employee:\n",
    "    \n",
    "    # initialize or constructor\n",
    "    def __init__(self, first, last):\n",
    "        self.first = first\n",
    "        self.last = last\n",
    "        \n",
    "    def fullname(self):\n",
    "        return f\"{self.first} {self.last}\"\n",
    "        \n",
    "e1 = Employee('John', \"Doe\")\n",
    "e2 = Employee('Mary', 'Lowey')\n",
    "\n",
    "print(e1.fullname())\n",
    "print(Employee.fullname(e1))"
   ]
  },
  {
   "cell_type": "markdown",
   "id": "f28dc145",
   "metadata": {},
   "source": [
    "class variables are shared among all instances of class"
   ]
  },
  {
   "cell_type": "code",
   "execution_count": 8,
   "id": "768ae1ff",
   "metadata": {},
   "outputs": [
    {
     "name": "stdout",
     "output_type": "stream",
     "text": [
      "2\n",
      "1.05\n",
      "1.05\n",
      "1.045\n",
      "{'__module__': '__main__', 'no_of_emps': 2, 'raise_amount': 1.05, '__init__': <function Employee.__init__ at 0x000001FFB49512D0>, 'fullname': <function Employee.fullname at 0x000001FFB4951AB0>, 'apply_raise': <function Employee.apply_raise at 0x000001FFB4951B40>, '__dict__': <attribute '__dict__' of 'Employee' objects>, '__weakref__': <attribute '__weakref__' of 'Employee' objects>, '__doc__': None}\n",
      "{'first': 'John', 'last': 'Doe', 'pay': 30000}\n",
      "{'first': 'Mary', 'last': 'Lowey', 'pay': 35000, 'raise_amount': 1.045}\n"
     ]
    }
   ],
   "source": [
    "class Employee:\n",
    "    \n",
    "    no_of_emps = 0\n",
    "    raise_amount = 1.04\n",
    "    \n",
    "    # initialize or constructor\n",
    "    def __init__(self, first, last, pay):\n",
    "        self.first = first\n",
    "        self.last = last\n",
    "        self.pay = pay\n",
    "        \n",
    "        Employee.no_of_emps += 1\n",
    "        \n",
    "    def fullname(self):\n",
    "        return f\"{self.first} {self.last}\"\n",
    "    \n",
    "    def apply_raise(self):\n",
    "        self.pay = int(self.pay * self.raise_amount)\n",
    "        \n",
    "e1 = Employee('John', \"Doe\", 30000)\n",
    "e2 = Employee('Mary', 'Lowey', 35000)\n",
    "\n",
    "Employee.raise_amount = 1.05\n",
    "e2.raise_amount = 1.045\n",
    "\n",
    "print(Employee.no_of_emps)\n",
    "\n",
    "print(Employee.raise_amount)\n",
    "print(e1.raise_amount)\n",
    "print(e2.raise_amount)\n",
    "\n",
    "print(Employee.__dict__)\n",
    "print(e1.__dict__)\n",
    "print(e2.__dict__)"
   ]
  },
  {
   "cell_type": "markdown",
   "id": "d84f2521",
   "metadata": {},
   "source": [
    "classmethods and staticmethods, \n",
    "using '@classmethod' decorator to pass class as argument instead of instance ,\n",
    "regular instance methods auto pass self, classmethods auto pass cls whereas staticmethods do not auto pass but we still include if there is a logical connection to class."
   ]
  },
  {
   "cell_type": "code",
   "execution_count": 11,
   "id": "3b9738f8",
   "metadata": {},
   "outputs": [
    {
     "name": "stdout",
     "output_type": "stream",
     "text": [
      "2\n",
      "1.05\n",
      "1.05\n",
      "1.045\n",
      "{'__module__': '__main__', 'no_of_emps': 2, 'raise_amount': 1.05, '__init__': <function Employee.__init__ at 0x000001FFB64A49D0>, 'fullname': <function Employee.fullname at 0x000001FFB64A57E0>, 'apply_raise': <function Employee.apply_raise at 0x000001FFB64A5990>, 'set_raise_amt': <classmethod(<function Employee.set_raise_amt at 0x000001FFB64A4940>)>, 'from_string': <classmethod(<function Employee.from_string at 0x000001FFB64A5D80>)>, 'is_workday': <staticmethod(<function Employee.is_workday at 0x000001FFB64A5AB0>)>, '__dict__': <attribute '__dict__' of 'Employee' objects>, '__weakref__': <attribute '__weakref__' of 'Employee' objects>, '__doc__': None}\n",
      "{'first': 'John', 'last': 'Doe', 'pay': '30000'}\n",
      "{'first': 'Mary', 'last': 'Row', 'pay': '40000', 'raise_amount': 1.045}\n",
      "True\n"
     ]
    }
   ],
   "source": [
    "class Employee:\n",
    "    \n",
    "    no_of_emps = 0\n",
    "    raise_amount = 1.04\n",
    "    \n",
    "    # initialize or constructor\n",
    "    def __init__(self, first, last, pay):\n",
    "        self.first = first\n",
    "        self.last = last\n",
    "        self.pay = pay\n",
    "        \n",
    "        Employee.no_of_emps += 1\n",
    "        \n",
    "    def fullname(self):\n",
    "        return f\"{self.first} {self.last}\"\n",
    "    \n",
    "    def apply_raise(self):\n",
    "        self.pay = int(self.pay * self.raise_amount)\n",
    "        \n",
    "    @classmethod\n",
    "    def set_raise_amt(cls, amt):\n",
    "        cls.raise_amount = amt\n",
    "        \n",
    "    #class methods as alternative consructor\n",
    "    @classmethod\n",
    "    def from_string(cls, emp_str):\n",
    "        first, last, pay = emp_str.split('-')\n",
    "        return cls(first, last, pay)\n",
    "        \n",
    "    @staticmethod\n",
    "    def is_workday(day):\n",
    "        if day.weekday() == 5 or day.weekday() == 6:\n",
    "            return False\n",
    "        else:\n",
    "            return True\n",
    "        \n",
    "str_1 = \"John-Doe-30000\"\n",
    "str_2 = \"Mary-Row-40000\"\n",
    "\n",
    "e1 = Employee.from_string(str_1)\n",
    "e2 = Employee.from_string(str_2)\n",
    "\n",
    "Employee.raise_amount = 1.05\n",
    "e2.raise_amount = 1.045\n",
    "\n",
    "print(Employee.no_of_emps)\n",
    "\n",
    "print(Employee.raise_amount)\n",
    "print(e1.raise_amount)\n",
    "print(e2.raise_amount)\n",
    "\n",
    "print(Employee.__dict__)\n",
    "print(e1.__dict__)\n",
    "print(e2.__dict__)\n",
    "\n",
    "import datetime\n",
    "my_date = datetime.date(2024, 2, 6)\n",
    "\n",
    "print(Employee.is_workday(my_date))"
   ]
  },
  {
   "cell_type": "markdown",
   "id": "20629a4d",
   "metadata": {},
   "source": [
    "special methods or magic methods allow to emulate some built-in behaviour within python and also implement operator overloading., \n",
    "dunder means double underscore"
   ]
  },
  {
   "cell_type": "code",
   "execution_count": null,
   "id": "f2b30df7",
   "metadata": {},
   "outputs": [],
   "source": []
  }
 ],
 "metadata": {
  "kernelspec": {
   "display_name": "Python 3 (ipykernel)",
   "language": "python",
   "name": "python3"
  },
  "language_info": {
   "codemirror_mode": {
    "name": "ipython",
    "version": 3
   },
   "file_extension": ".py",
   "mimetype": "text/x-python",
   "name": "python",
   "nbconvert_exporter": "python",
   "pygments_lexer": "ipython3",
   "version": "3.10.5"
  }
 },
 "nbformat": 4,
 "nbformat_minor": 5
}
