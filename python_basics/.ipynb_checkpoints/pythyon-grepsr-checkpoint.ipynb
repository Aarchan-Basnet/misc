{
 "cells": [
  {
   "cell_type": "markdown",
   "id": "8f9dfc79",
   "metadata": {},
   "source": [
    "1.\n",
    "Write a program that takes four arguments - startdate, enddate and interval (n number of\n",
    "days) such that it returns an array of dates separated by the internal in any format\n",
    "specified in the 4th arguments."
   ]
  },
  {
   "cell_type": "code",
   "execution_count": null,
   "id": "65579356",
   "metadata": {},
   "outputs": [],
   "source": [
    "start_date = '2023-01-01'\n",
    "end_date = '2023-01-31'\n",
    "interval = 2\n",
    "date_format = '%y/%m/%d'\n",
    "\n",
    "def date_split(date):\n",
    "    date_list = date.split('-')\n",
    "    y = int(date_list[0])\n",
    "    m = int(date_list[1])\n",
    "    d = int(date_list[2])\n",
    "    return y, m, d\n",
    "\n",
    "def date_list(start_date, end_date, interval, date_format):\n",
    "    y1, m1, d1 = date_split(start_date)\n",
    "    y2, m2, d2 = date_split(end_date)\n",
    "    \n",
    "    dates = []\n",
    "    while d2 >= d1:\n",
    "        date_now = f\"{y1}/{m1}/{d1}\"\n",
    "        dates.append(date_now)\n",
    "        d1 += interval\n",
    "    \n",
    "    return dates\n",
    "\n",
    "dates = date_list(start_date, end_date, interval, date_format)\n",
    "print(dates)"
   ]
  },
  {
   "cell_type": "markdown",
   "id": "b3771120",
   "metadata": {},
   "source": [
    "2-a.\n",
    "Write a code using Regex to breakdown string ”abc@grepsr.com” to an array\n",
    "[“abc”, “grepsr”, “com]”"
   ]
  },
  {
   "cell_type": "code",
   "execution_count": null,
   "id": "585cacce",
   "metadata": {},
   "outputs": [],
   "source": [
    "import re\n",
    "\n",
    "email = \"abc@grepsr.com\"\n",
    "regex_exp = r\"(.*[^@])@(.*[^\\.])\\.(.*)\"\n",
    "data = []\n",
    "\n",
    "match = re.search(regex_exp, email)\n",
    "data.append(match.group(1))\n",
    "data.append(match.group(2))\n",
    "data.append(match.group(3))\n",
    "print(data)"
   ]
  },
  {
   "cell_type": "markdown",
   "id": "69d53782",
   "metadata": {},
   "source": [
    "6. Write a crawler to crawl data from the site pypi .\n",
    "steps to follow are as follows.\n",
    "Generate a list of packages associated with the keyword “date” and sort it by the last\n",
    "updated date.\n",
    "Capture the below given lists of data points for all the packages up to page 3.\n",
    "Package Name\n",
    "Installation Instruction\n",
    "Released Date\n",
    "Short Description\n",
    "Author\n",
    "Maintainer (Separate by | if more than one maintainer)"
   ]
  },
  {
   "cell_type": "code",
   "execution_count": null,
   "id": "495b270d",
   "metadata": {},
   "outputs": [],
   "source": [
    "!pip install lxml\n",
    "!pip install requests"
   ]
  },
  {
   "cell_type": "code",
   "execution_count": 1,
   "id": "35067294",
   "metadata": {},
   "outputs": [],
   "source": [
    "import requests\n",
    "from lxml import html\n",
    "import os"
   ]
  },
  {
   "cell_type": "code",
   "execution_count": 2,
   "id": "f5264549",
   "metadata": {},
   "outputs": [
    {
     "name": "stdout",
     "output_type": "stream",
     "text": [
      "C:\\Users\\basne\\tutorial\\repos\\misc\\python_basics\n"
     ]
    }
   ],
   "source": [
    "#create directories to save html pages\n",
    "current_dir = os.getcwd()\n",
    "print(current_dir)\n",
    "new_dir1 = os.path.join(current_dir, r\"pages\")\n",
    "if not os.path.exists(new_dir1):\n",
    "    os.makedirs(new_dir1)\n",
    "    \n",
    "new_dir2 = os.path.join(current_dir, r\"packages\")\n",
    "if not os.path.exists(new_dir2):\n",
    "    os.makedirs(new_dir2)"
   ]
  },
  {
   "cell_type": "code",
   "execution_count": 3,
   "id": "5da170ee",
   "metadata": {},
   "outputs": [
    {
     "name": "stdout",
     "output_type": "stream",
     "text": [
      "<Response [200]>\n",
      "<Response [200]>\n",
      "<Response [200]>\n",
      "['/project/microprocessors/', '/project/microprocessors/', '/project/microprocessors/', '/project/microprocessors/', '/project/microprocessors/', '/project/microprocessors/', '/project/microprocessors/', '/project/microprocessors/', '/project/microprocessors/', '/project/microprocessors/', '/project/microprocessors/', '/project/microprocessors/', '/project/microprocessors/', '/project/microprocessors/', '/project/microprocessors/', '/project/microprocessors/', '/project/microprocessors/', '/project/microprocessors/', '/project/microprocessors/', '/project/microprocessors/', '/project/tfp-nightly/', '/project/tfp-nightly/', '/project/tfp-nightly/', '/project/tfp-nightly/', '/project/tfp-nightly/', '/project/tfp-nightly/', '/project/tfp-nightly/', '/project/tfp-nightly/', '/project/tfp-nightly/', '/project/tfp-nightly/', '/project/tfp-nightly/', '/project/tfp-nightly/', '/project/tfp-nightly/', '/project/tfp-nightly/', '/project/tfp-nightly/', '/project/tfp-nightly/', '/project/tfp-nightly/', '/project/tfp-nightly/', '/project/tfp-nightly/', '/project/tfp-nightly/', '/project/llama-index/', '/project/llama-index/', '/project/llama-index/', '/project/llama-index/', '/project/llama-index/', '/project/llama-index/', '/project/llama-index/', '/project/llama-index/', '/project/llama-index/', '/project/llama-index/', '/project/llama-index/', '/project/llama-index/', '/project/llama-index/', '/project/llama-index/', '/project/llama-index/', '/project/llama-index/', '/project/llama-index/', '/project/llama-index/', '/project/llama-index/', '/project/llama-index/']\n"
     ]
    }
   ],
   "source": [
    "#using name and values method in the url to access required pages (search 'date'->sort by 'last updated'->page number) and return a list of links of packages\n",
    "\n",
    "search_by_date = \"q=date\"\n",
    "sort_by_date = \"o=-created\"\n",
    "pagination = [\"page=1\", \"page=2\", \"page=3\"]\n",
    "\n",
    "def get_package_links():\n",
    "    landing_links = []\n",
    "    for index, page in enumerate(pagination):\n",
    "        url = f\"https://pypi.org/search/?{search_by_date}&{sort_by_date}&{page}\"\n",
    "        response = requests.get(url)\n",
    "        print(response)\n",
    "        html_content = response.content\n",
    "\n",
    "        with open(f\"pages/page_{index}.html\", \"wb\") as file:\n",
    "            file.write(html_content)\n",
    "\n",
    "        element = html.fromstring(html_content)\n",
    "\n",
    "        links_list = element.xpath(\"//a[@class='package-snippet']\")\n",
    "    #     print(links_list)\n",
    "\n",
    "        for links in links_list:\n",
    "            links = links_list[0].get('href')\n",
    "            landing_links.append(links)\n",
    "\n",
    "#     print(landing_links)\n",
    "    return landing_links\n",
    "\n",
    "package_links = get_package_links()\n",
    "print(package_links)"
   ]
  },
  {
   "cell_type": "code",
   "execution_count": 21,
   "id": "f10a4f9b",
   "metadata": {},
   "outputs": [
    {
     "name": "stdout",
     "output_type": "stream",
     "text": [
      "<Response [200]>\n",
      "<Response [200]>\n",
      "<Response [200]>\n",
      "<Response [200]>\n",
      "<Response [200]>\n",
      "<Response [200]>\n",
      "<Response [200]>\n",
      "<Response [200]>\n",
      "<Response [200]>\n",
      "<Response [200]>\n",
      "<Response [200]>\n",
      "<Response [200]>\n",
      "<Response [200]>\n",
      "<Response [200]>\n",
      "<Response [200]>\n",
      "<Response [200]>\n",
      "<Response [200]>\n",
      "<Response [200]>\n",
      "<Response [200]>\n",
      "<Response [200]>\n",
      "<Response [200]>\n",
      "<Response [200]>\n",
      "<Response [200]>\n",
      "<Response [200]>\n",
      "<Response [200]>\n",
      "<Response [200]>\n",
      "<Response [200]>\n",
      "<Response [200]>\n",
      "<Response [200]>\n",
      "<Response [200]>\n",
      "<Response [200]>\n",
      "<Response [200]>\n",
      "<Response [200]>\n",
      "<Response [200]>\n",
      "<Response [200]>\n",
      "<Response [200]>\n",
      "<Response [200]>\n",
      "<Response [200]>\n",
      "<Response [200]>\n",
      "<Response [200]>\n",
      "<Response [200]>\n",
      "<Response [200]>\n",
      "<Response [200]>\n",
      "<Response [200]>\n",
      "<Response [200]>\n",
      "<Response [200]>\n",
      "<Response [200]>\n",
      "<Response [200]>\n",
      "<Response [200]>\n",
      "<Response [200]>\n",
      "<Response [200]>\n",
      "<Response [200]>\n",
      "<Response [200]>\n",
      "<Response [200]>\n",
      "<Response [200]>\n",
      "<Response [200]>\n",
      "<Response [200]>\n",
      "<Response [200]>\n",
      "<Response [200]>\n",
      "<Response [200]>\n",
      "[{'package_name': 'microprocessors 0.1.6', 'installation_instruction': 'pip install microprocessors', 'released_date': 'Feb 21, 2024', 'author': None, 'maintainers': 'Alemerci'}, {'package_name': 'microprocessors 0.1.6', 'installation_instruction': 'pip install microprocessors', 'released_date': 'Feb 21, 2024', 'author': None, 'maintainers': 'Alemerci'}, {'package_name': 'microprocessors 0.1.6', 'installation_instruction': 'pip install microprocessors', 'released_date': 'Feb 21, 2024', 'author': None, 'maintainers': 'Alemerci'}, {'package_name': 'microprocessors 0.1.6', 'installation_instruction': 'pip install microprocessors', 'released_date': 'Feb 21, 2024', 'author': None, 'maintainers': 'Alemerci'}, {'package_name': 'microprocessors 0.1.6', 'installation_instruction': 'pip install microprocessors', 'released_date': 'Feb 21, 2024', 'author': None, 'maintainers': 'Alemerci'}, {'package_name': 'microprocessors 0.1.6', 'installation_instruction': 'pip install microprocessors', 'released_date': 'Feb 21, 2024', 'author': None, 'maintainers': 'Alemerci'}, {'package_name': 'microprocessors 0.1.6', 'installation_instruction': 'pip install microprocessors', 'released_date': 'Feb 21, 2024', 'author': None, 'maintainers': 'Alemerci'}, {'package_name': 'microprocessors 0.1.6', 'installation_instruction': 'pip install microprocessors', 'released_date': 'Feb 21, 2024', 'author': None, 'maintainers': 'Alemerci'}, {'package_name': 'microprocessors 0.1.6', 'installation_instruction': 'pip install microprocessors', 'released_date': 'Feb 21, 2024', 'author': None, 'maintainers': 'Alemerci'}, {'package_name': 'microprocessors 0.1.6', 'installation_instruction': 'pip install microprocessors', 'released_date': 'Feb 21, 2024', 'author': None, 'maintainers': 'Alemerci'}, {'package_name': 'microprocessors 0.1.6', 'installation_instruction': 'pip install microprocessors', 'released_date': 'Feb 21, 2024', 'author': None, 'maintainers': 'Alemerci'}, {'package_name': 'microprocessors 0.1.6', 'installation_instruction': 'pip install microprocessors', 'released_date': 'Feb 21, 2024', 'author': None, 'maintainers': 'Alemerci'}, {'package_name': 'microprocessors 0.1.6', 'installation_instruction': 'pip install microprocessors', 'released_date': 'Feb 21, 2024', 'author': None, 'maintainers': 'Alemerci'}, {'package_name': 'microprocessors 0.1.6', 'installation_instruction': 'pip install microprocessors', 'released_date': 'Feb 21, 2024', 'author': None, 'maintainers': 'Alemerci'}, {'package_name': 'microprocessors 0.1.6', 'installation_instruction': 'pip install microprocessors', 'released_date': 'Feb 21, 2024', 'author': None, 'maintainers': 'Alemerci'}, {'package_name': 'microprocessors 0.1.6', 'installation_instruction': 'pip install microprocessors', 'released_date': 'Feb 21, 2024', 'author': None, 'maintainers': 'Alemerci'}, {'package_name': 'microprocessors 0.1.6', 'installation_instruction': 'pip install microprocessors', 'released_date': 'Feb 21, 2024', 'author': None, 'maintainers': 'Alemerci'}, {'package_name': 'microprocessors 0.1.6', 'installation_instruction': 'pip install microprocessors', 'released_date': 'Feb 21, 2024', 'author': None, 'maintainers': 'Alemerci'}, {'package_name': 'microprocessors 0.1.6', 'installation_instruction': 'pip install microprocessors', 'released_date': 'Feb 21, 2024', 'author': None, 'maintainers': 'Alemerci'}, {'package_name': 'microprocessors 0.1.6', 'installation_instruction': 'pip install microprocessors', 'released_date': 'Feb 21, 2024', 'author': None, 'maintainers': 'Alemerci'}, {'package_name': 'tfp-nightly 0.24.0.dev20240221', 'installation_instruction': 'pip install tfp-nightly', 'released_date': 'Feb 21, 2024', 'author': 'Google LLC', 'maintainers': 'google_opensource|tfp-automation|tfp-team'}, {'package_name': 'tfp-nightly 0.24.0.dev20240221', 'installation_instruction': 'pip install tfp-nightly', 'released_date': 'Feb 21, 2024', 'author': 'Google LLC', 'maintainers': 'google_opensource|tfp-automation|tfp-team'}, {'package_name': 'tfp-nightly 0.24.0.dev20240221', 'installation_instruction': 'pip install tfp-nightly', 'released_date': 'Feb 21, 2024', 'author': 'Google LLC', 'maintainers': 'google_opensource|tfp-automation|tfp-team'}, {'package_name': 'tfp-nightly 0.24.0.dev20240221', 'installation_instruction': 'pip install tfp-nightly', 'released_date': 'Feb 21, 2024', 'author': 'Google LLC', 'maintainers': 'google_opensource|tfp-automation|tfp-team'}, {'package_name': 'tfp-nightly 0.24.0.dev20240221', 'installation_instruction': 'pip install tfp-nightly', 'released_date': 'Feb 21, 2024', 'author': 'Google LLC', 'maintainers': 'google_opensource|tfp-automation|tfp-team'}, {'package_name': 'tfp-nightly 0.24.0.dev20240221', 'installation_instruction': 'pip install tfp-nightly', 'released_date': 'Feb 21, 2024', 'author': 'Google LLC', 'maintainers': 'google_opensource|tfp-automation|tfp-team'}, {'package_name': 'tfp-nightly 0.24.0.dev20240221', 'installation_instruction': 'pip install tfp-nightly', 'released_date': 'Feb 21, 2024', 'author': 'Google LLC', 'maintainers': 'google_opensource|tfp-automation|tfp-team'}, {'package_name': 'tfp-nightly 0.24.0.dev20240221', 'installation_instruction': 'pip install tfp-nightly', 'released_date': 'Feb 21, 2024', 'author': 'Google LLC', 'maintainers': 'google_opensource|tfp-automation|tfp-team'}, {'package_name': 'tfp-nightly 0.24.0.dev20240221', 'installation_instruction': 'pip install tfp-nightly', 'released_date': 'Feb 21, 2024', 'author': 'Google LLC', 'maintainers': 'google_opensource|tfp-automation|tfp-team'}, {'package_name': 'tfp-nightly 0.24.0.dev20240221', 'installation_instruction': 'pip install tfp-nightly', 'released_date': 'Feb 21, 2024', 'author': 'Google LLC', 'maintainers': 'google_opensource|tfp-automation|tfp-team'}, {'package_name': 'tfp-nightly 0.24.0.dev20240221', 'installation_instruction': 'pip install tfp-nightly', 'released_date': 'Feb 21, 2024', 'author': 'Google LLC', 'maintainers': 'google_opensource|tfp-automation|tfp-team'}, {'package_name': 'tfp-nightly 0.24.0.dev20240221', 'installation_instruction': 'pip install tfp-nightly', 'released_date': 'Feb 21, 2024', 'author': 'Google LLC', 'maintainers': 'google_opensource|tfp-automation|tfp-team'}, {'package_name': 'tfp-nightly 0.24.0.dev20240221', 'installation_instruction': 'pip install tfp-nightly', 'released_date': 'Feb 21, 2024', 'author': 'Google LLC', 'maintainers': 'google_opensource|tfp-automation|tfp-team'}, {'package_name': 'tfp-nightly 0.24.0.dev20240221', 'installation_instruction': 'pip install tfp-nightly', 'released_date': 'Feb 21, 2024', 'author': 'Google LLC', 'maintainers': 'google_opensource|tfp-automation|tfp-team'}, {'package_name': 'tfp-nightly 0.24.0.dev20240221', 'installation_instruction': 'pip install tfp-nightly', 'released_date': 'Feb 21, 2024', 'author': 'Google LLC', 'maintainers': 'google_opensource|tfp-automation|tfp-team'}, {'package_name': 'tfp-nightly 0.24.0.dev20240221', 'installation_instruction': 'pip install tfp-nightly', 'released_date': 'Feb 21, 2024', 'author': 'Google LLC', 'maintainers': 'google_opensource|tfp-automation|tfp-team'}, {'package_name': 'tfp-nightly 0.24.0.dev20240221', 'installation_instruction': 'pip install tfp-nightly', 'released_date': 'Feb 21, 2024', 'author': 'Google LLC', 'maintainers': 'google_opensource|tfp-automation|tfp-team'}, {'package_name': 'tfp-nightly 0.24.0.dev20240221', 'installation_instruction': 'pip install tfp-nightly', 'released_date': 'Feb 21, 2024', 'author': 'Google LLC', 'maintainers': 'google_opensource|tfp-automation|tfp-team'}, {'package_name': 'tfp-nightly 0.24.0.dev20240221', 'installation_instruction': 'pip install tfp-nightly', 'released_date': 'Feb 21, 2024', 'author': 'Google LLC', 'maintainers': 'google_opensource|tfp-automation|tfp-team'}, {'package_name': 'tfp-nightly 0.24.0.dev20240221', 'installation_instruction': 'pip install tfp-nightly', 'released_date': 'Feb 21, 2024', 'author': 'Google LLC', 'maintainers': 'google_opensource|tfp-automation|tfp-team'}, {'package_name': 'llama-index 0.10.10', 'installation_instruction': 'pip install llama-index', 'released_date': 'Feb 21, 2024', 'author': 'Jerry Liu', 'maintainers': 'jerryjliu|simonsdsuo'}, {'package_name': 'llama-index 0.10.10', 'installation_instruction': 'pip install llama-index', 'released_date': 'Feb 21, 2024', 'author': 'Jerry Liu', 'maintainers': 'jerryjliu|simonsdsuo'}, {'package_name': 'llama-index 0.10.10', 'installation_instruction': 'pip install llama-index', 'released_date': 'Feb 21, 2024', 'author': 'Jerry Liu', 'maintainers': 'jerryjliu|simonsdsuo'}, {'package_name': 'llama-index 0.10.10', 'installation_instruction': 'pip install llama-index', 'released_date': 'Feb 21, 2024', 'author': 'Jerry Liu', 'maintainers': 'jerryjliu|simonsdsuo'}, {'package_name': 'llama-index 0.10.10', 'installation_instruction': 'pip install llama-index', 'released_date': 'Feb 21, 2024', 'author': 'Jerry Liu', 'maintainers': 'jerryjliu|simonsdsuo'}, {'package_name': 'llama-index 0.10.10', 'installation_instruction': 'pip install llama-index', 'released_date': 'Feb 21, 2024', 'author': 'Jerry Liu', 'maintainers': 'jerryjliu|simonsdsuo'}, {'package_name': 'llama-index 0.10.10', 'installation_instruction': 'pip install llama-index', 'released_date': 'Feb 21, 2024', 'author': 'Jerry Liu', 'maintainers': 'jerryjliu|simonsdsuo'}, {'package_name': 'llama-index 0.10.10', 'installation_instruction': 'pip install llama-index', 'released_date': 'Feb 21, 2024', 'author': 'Jerry Liu', 'maintainers': 'jerryjliu|simonsdsuo'}, {'package_name': 'llama-index 0.10.10', 'installation_instruction': 'pip install llama-index', 'released_date': 'Feb 21, 2024', 'author': 'Jerry Liu', 'maintainers': 'jerryjliu|simonsdsuo'}, {'package_name': 'llama-index 0.10.10', 'installation_instruction': 'pip install llama-index', 'released_date': 'Feb 21, 2024', 'author': 'Jerry Liu', 'maintainers': 'jerryjliu|simonsdsuo'}, {'package_name': 'llama-index 0.10.10', 'installation_instruction': 'pip install llama-index', 'released_date': 'Feb 21, 2024', 'author': 'Jerry Liu', 'maintainers': 'jerryjliu|simonsdsuo'}, {'package_name': 'llama-index 0.10.10', 'installation_instruction': 'pip install llama-index', 'released_date': 'Feb 21, 2024', 'author': 'Jerry Liu', 'maintainers': 'jerryjliu|simonsdsuo'}, {'package_name': 'llama-index 0.10.10', 'installation_instruction': 'pip install llama-index', 'released_date': 'Feb 21, 2024', 'author': 'Jerry Liu', 'maintainers': 'jerryjliu|simonsdsuo'}, {'package_name': 'llama-index 0.10.10', 'installation_instruction': 'pip install llama-index', 'released_date': 'Feb 21, 2024', 'author': 'Jerry Liu', 'maintainers': 'jerryjliu|simonsdsuo'}, {'package_name': 'llama-index 0.10.10', 'installation_instruction': 'pip install llama-index', 'released_date': 'Feb 21, 2024', 'author': 'Jerry Liu', 'maintainers': 'jerryjliu|simonsdsuo'}, {'package_name': 'llama-index 0.10.10', 'installation_instruction': 'pip install llama-index', 'released_date': 'Feb 21, 2024', 'author': 'Jerry Liu', 'maintainers': 'jerryjliu|simonsdsuo'}, {'package_name': 'llama-index 0.10.10', 'installation_instruction': 'pip install llama-index', 'released_date': 'Feb 21, 2024', 'author': 'Jerry Liu', 'maintainers': 'jerryjliu|simonsdsuo'}, {'package_name': 'llama-index 0.10.10', 'installation_instruction': 'pip install llama-index', 'released_date': 'Feb 21, 2024', 'author': 'Jerry Liu', 'maintainers': 'jerryjliu|simonsdsuo'}, {'package_name': 'llama-index 0.10.10', 'installation_instruction': 'pip install llama-index', 'released_date': 'Feb 21, 2024', 'author': 'Jerry Liu', 'maintainers': 'jerryjliu|simonsdsuo'}, {'package_name': 'llama-index 0.10.10', 'installation_instruction': 'pip install llama-index', 'released_date': 'Feb 21, 2024', 'author': 'Jerry Liu', 'maintainers': 'jerryjliu|simonsdsuo'}]\n"
     ]
    }
   ],
   "source": [
    "#extracted required data from each page(obtained from list of links of packages) as list of dictionaries using xpath method\n",
    "def extract_data():\n",
    "    data_list = []\n",
    "    try:\n",
    "        for index, link in enumerate(package_links):\n",
    "            url = f\"https://pypi.org{link}\"\n",
    "            response = requests.get(url)\n",
    "            print(response)\n",
    "            html_content = response.content\n",
    "\n",
    "            with open(f\"packages/package_{index}.html\", \"wb\") as file:\n",
    "                file.write(html_content)\n",
    "\n",
    "            element = html.fromstring(html_content)\n",
    "\n",
    "            name = element.xpath(\"//div[@class='package-header__left']//h1[@class='package-header__name']//text()\")\n",
    "        #     print(name)\n",
    "            instruction = element.xpath(\"//span[@id='pip-command']//text()\")\n",
    "        #     print(instruction)\n",
    "            date = element.xpath(\"//p[@class='package-header__date']//time//text()\")\n",
    "        #     print(date)\n",
    "            description = element.xpath(\"//p[@class='package-description__summary']//text()\")\n",
    "        #     print(description)\n",
    "            author = element.xpath(\"//div[@class='sidebar-section'][4]//p[2]//a//text()\")\n",
    "        #     print(author)\n",
    "            maintainers_list = element.xpath(\"//span[@class='sidebar-section__user-gravatar-text']//text()\")\n",
    "            l = int(len(maintainers_list)/2)\n",
    "            maintainers = maintainers_list[0:l]\n",
    "            maintainer = [x.strip() for x in maintainers]\n",
    "        #     print(maintainers)\n",
    "            data = {\n",
    "                \"package_name\": name[0].strip() if name else None,\n",
    "                \"installation_instruction\": instruction[0].strip() if instruction else None,\n",
    "                \"released_date\": date[0].strip() if date else None,\n",
    "                \"author\": author[0] if author else None,\n",
    "                \"maintainers\": '|'.join(maintainer) if maintainer else None\n",
    "            }\n",
    "            data_list.append(data)\n",
    "\n",
    "    except:\n",
    "        pass\n",
    "    \n",
    "    return data_list\n",
    "\n",
    "data_list = extract_data()\n",
    "print(data_list)"
   ]
  },
  {
   "cell_type": "code",
   "execution_count": null,
   "id": "44359953",
   "metadata": {},
   "outputs": [],
   "source": []
  }
 ],
 "metadata": {
  "kernelspec": {
   "display_name": "Python 3 (ipykernel)",
   "language": "python",
   "name": "python3"
  },
  "language_info": {
   "codemirror_mode": {
    "name": "ipython",
    "version": 3
   },
   "file_extension": ".py",
   "mimetype": "text/x-python",
   "name": "python",
   "nbconvert_exporter": "python",
   "pygments_lexer": "ipython3",
   "version": "3.10.5"
  }
 },
 "nbformat": 4,
 "nbformat_minor": 5
}
